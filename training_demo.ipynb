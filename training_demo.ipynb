{
 "cells": [
  {
   "cell_type": "markdown",
   "id": "4e5a51eb",
   "metadata": {},
   "source": [
    "# DeepLabV3+ Transfer Learning Training Demo\n",
    "\n",
    "DeepLabV3+ w/ResNet101 backbone transfer learning training demo\n",
    "Net pretrained with COCO val2017, then trained with Yamaha-CMU Off-Road Dataset\n",
    "\n",
    "---\n",
    "\n",
    "Authors:\n",
    "- **Nate Haddad** haddad[dot]na[at]northeastern[dot]edu\n",
    "- **Amit Mulay** mulay[dot]am[at]northeastern[dot]edu"
   ]
  },
  {
   "cell_type": "code",
   "execution_count": null,
   "id": "56f65e9c",
   "metadata": {},
   "outputs": [],
   "source": [
    "import torch\n",
    "\n",
    "from torchvision import transforms, models\n",
    "from torchvision.models.segmentation.deeplabv3 import DeepLabHead\n",
    "\n",
    "import numpy as np\n",
    "from PIL import Image\n",
    "import os\n",
    "import matplotlib.pyplot as plt\n",
    "\n",
    "from train import train_model\n",
    "from dataset import get_dataloader, YamahaCMUDataset\n",
    "from utils import display_example_pair, freeze_layers"
   ]
  },
  {
   "cell_type": "code",
   "execution_count": null,
   "id": "8298a608",
   "metadata": {},
   "outputs": [],
   "source": [
    "torch.cuda.is_available()"
   ]
  },
  {
   "cell_type": "code",
   "execution_count": null,
   "id": "10ebf6d1",
   "metadata": {},
   "outputs": [],
   "source": [
    "np.random.seed(42)"
   ]
  },
  {
   "cell_type": "markdown",
   "id": "0b8fe659",
   "metadata": {},
   "source": [
    "Set up all of our path variables and hyperparamters needed to train the model. Adjust accordingly to your needs"
   ]
  },
  {
   "cell_type": "code",
   "execution_count": null,
   "id": "d0591d82",
   "metadata": {},
   "outputs": [],
   "source": [
    "# image resize variables\n",
    "IMG_HEIGHT = 513\n",
    "IMG_WIDTH = 513\n",
    "\n",
    "epochs = 5\n",
    "num_mask_channels = 8\n",
    "batch_size = 4"
   ]
  },
  {
   "cell_type": "code",
   "execution_count": null,
   "id": "d4c45f94",
   "metadata": {},
   "outputs": [],
   "source": [
    "DATA_PATH = 'data/yamaha_v0/'\n",
    "MODEL_PATH = 'models/model_v0.1.{}.{}.pt'.format(batch_size, epochs)"
   ]
  },
  {
   "cell_type": "markdown",
   "id": "21dc97b9",
   "metadata": {},
   "source": [
    "Set up the `data` and `model` directories"
   ]
  },
  {
   "cell_type": "code",
   "execution_count": null,
   "id": "024f9270",
   "metadata": {},
   "outputs": [],
   "source": [
    "if not os.path.exists('data'):\n",
    "    os.makedirs('data')\n",
    "    \n",
    "if not os.path.exists('models'):\n",
    "    os.makedirs('models')"
   ]
  },
  {
   "cell_type": "markdown",
   "id": "2bab8b2f",
   "metadata": {},
   "source": [
    "---\n",
    "\n",
    "**IMPORTANT:** we require that you now download the Yamaha CMU Off-Road Dataset from the following url before proceding. The directory and files should be unzipped and placed in the `data` directory of this repository, created above.\n",
    "\n",
    "**Link to download dataset:** https://theairlab.org/yamaha-offroad-dataset/\n",
    "\n",
    "---"
   ]
  },
  {
   "cell_type": "markdown",
   "id": "ef58b6d5",
   "metadata": {},
   "source": [
    "Load an example image from the training set"
   ]
  },
  {
   "cell_type": "code",
   "execution_count": null,
   "id": "51f30b00",
   "metadata": {},
   "outputs": [],
   "source": [
    "example_image = Image.open('data/yamaha_v0/train/iid000008/rgb.jpg')\n",
    "example_mask = Image.open('data/yamaha_v0/train/iid000008/labels.png')\n",
    "image_display = np.array(example_image)\n",
    "mask_display = np.array(example_mask.convert('RGB'))\n",
    "display_example_pair(image_display, mask_display)"
   ]
  },
  {
   "cell_type": "markdown",
   "id": "4454cb90",
   "metadata": {},
   "source": [
    "Load data into dataloaders"
   ]
  },
  {
   "cell_type": "code",
   "execution_count": null,
   "id": "d164a618",
   "metadata": {},
   "outputs": [],
   "source": [
    "dataloaders = get_dataloader(DATA_PATH, batch_size=batch_size, resize_shape=(IMG_HEIGHT,IMG_WIDTH))"
   ]
  },
  {
   "cell_type": "markdown",
   "id": "a40bad32",
   "metadata": {},
   "source": [
    "### Model Selection\n",
    "\n",
    "Create the model. Note that the model is pretrained on COCO val2017. Replace the output layer with 8 mask channels and the correct number of nodes for the last layer"
   ]
  },
  {
   "cell_type": "markdown",
   "id": "3f7aef5a",
   "metadata": {},
   "source": [
    "ResNet50"
   ]
  },
  {
   "cell_type": "code",
   "execution_count": null,
   "id": "1ed91ae5",
   "metadata": {},
   "outputs": [],
   "source": [
    "# model = models.segmentation.deeplabv3_resnet50(pretrained=True, progress=True, aux_loss=None)\n",
    "# model.classifier = DeepLabHead(2048, num_mask_channels)"
   ]
  },
  {
   "cell_type": "markdown",
   "id": "fdf19fc3",
   "metadata": {},
   "source": [
    "ResNet101"
   ]
  },
  {
   "cell_type": "code",
   "execution_count": null,
   "id": "9d8ba036",
   "metadata": {},
   "outputs": [],
   "source": [
    "# model = models.segmentation.deeplabv3_resnet101(pretrained=True, progress=True, aux_loss=None)\n",
    "# model.classifier = DeepLabHead(2048, num_mask_channels)"
   ]
  },
  {
   "cell_type": "markdown",
   "id": "89f5e7a6",
   "metadata": {},
   "source": [
    "MobileNetV3-Large"
   ]
  },
  {
   "cell_type": "code",
   "execution_count": null,
   "id": "63f58a53",
   "metadata": {},
   "outputs": [],
   "source": [
    "model = models.segmentation.deeplabv3_mobilenet_v3_large(pretrained=True, progress=True, aux_loss=True)\n",
    "model.classifier = DeepLabHead(960, num_mask_channels)"
   ]
  },
  {
   "cell_type": "markdown",
   "id": "b6c0db24",
   "metadata": {},
   "source": [
    "Freeze earlier layers"
   ]
  },
  {
   "cell_type": "code",
   "execution_count": null,
   "id": "22a5096b",
   "metadata": {},
   "outputs": [],
   "source": [
    "# freeze_layers(model, 0, 14)"
   ]
  },
  {
   "cell_type": "code",
   "execution_count": null,
   "id": "92549e81",
   "metadata": {},
   "outputs": [],
   "source": [
    "model.train();"
   ]
  },
  {
   "cell_type": "markdown",
   "id": "8582e4e4",
   "metadata": {},
   "source": [
    "Select the optimizer and loss function"
   ]
  },
  {
   "cell_type": "code",
   "execution_count": null,
   "id": "24b58c63",
   "metadata": {},
   "outputs": [],
   "source": [
    "criterion = torch.nn.CrossEntropyLoss()\n",
    "optimizer = torch.optim.Adam(model.parameters(), lr=1e-4)"
   ]
  },
  {
   "cell_type": "markdown",
   "id": "6003acd5",
   "metadata": {},
   "source": [
    "Train the model"
   ]
  },
  {
   "cell_type": "code",
   "execution_count": null,
   "id": "658fd5a0",
   "metadata": {
    "scrolled": true
   },
   "outputs": [],
   "source": [
    "train_model(model, dataloaders, criterion, optimizer, num_epochs=epochs, is_inception=True);"
   ]
  },
  {
   "cell_type": "markdown",
   "id": "926353db",
   "metadata": {},
   "source": [
    "---\n",
    "Save the entire model"
   ]
  },
  {
   "cell_type": "code",
   "execution_count": null,
   "id": "4446a6e9",
   "metadata": {},
   "outputs": [],
   "source": [
    "torch.save(model, MODEL_PATH)"
   ]
  },
  {
   "cell_type": "code",
   "execution_count": null,
   "id": "f8412b9e",
   "metadata": {},
   "outputs": [],
   "source": []
  }
 ],
 "metadata": {
  "kernelspec": {
   "display_name": "Python 3",
   "language": "python",
   "name": "python3"
  },
  "language_info": {
   "codemirror_mode": {
    "name": "ipython",
    "version": 3
   },
   "file_extension": ".py",
   "mimetype": "text/x-python",
   "name": "python",
   "nbconvert_exporter": "python",
   "pygments_lexer": "ipython3",
   "version": "3.8.8"
  }
 },
 "nbformat": 4,
 "nbformat_minor": 5
}
